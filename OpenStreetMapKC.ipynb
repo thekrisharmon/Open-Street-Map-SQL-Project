{
 "cells": [
  {
   "cell_type": "markdown",
   "metadata": {},
   "source": [
    "# Open Street Map Case Study\n",
    "\n",
    "## Location Selected: Kansas City, Missouri\n",
    "\n",
    "Map URL: https://www.openstreetmap.org/search?query=kansas%20city%20missouri#map=10/39.0928/-94.5758\n",
    "\n",
    "### Context:\n",
    "\n",
    "This area is in Northwest Missouri and sits on the border of Northeast Kansas. I chose this area as it is close to my hometown, my family enjoy trips to the area, and one of our favorite baseball teams is the KC Royals. As such, I thought it'd be an interesting area to comb through and clean data."
   ]
  },
  {
   "cell_type": "markdown",
   "metadata": {},
   "source": [
    "# Note On Data File\n",
    "\n",
    "The original OSM file I pulled for Kansas City, Missouri was 680 MB in size. This caused the timeline to clean and convert to CSV's in excess of 3.5 hours. I elected to circle back to Open Street Map and down load a \"smaller search area.\" So for the purposes of this report / project, the OSM file size is shown below.\n",
    "\n",
    "Note: I used the CreateSampleData.py file to create the sample OSM file."
   ]
  },
  {
   "cell_type": "code",
   "execution_count": 2,
   "metadata": {},
   "outputs": [
    {
     "name": "stdout",
     "output_type": "stream",
     "text": [
      "Original file size is: 680M\n",
      "New 'Original' file size is: 69M\n"
     ]
    }
   ],
   "source": [
    "from hurry.filesize import size\n",
    "import os\n",
    "\n",
    "kcmapold = \"kcmapOLD.osm\"\n",
    "kcmapnew = \"kcmap.osm\"\n",
    "\n",
    "print \"Original file size is: \" + size(os.path.getsize(kcmapold))\n",
    "print \"New 'Original' file size is: \" + size(os.path.getsize(kcmapnew))"
   ]
  },
  {
   "cell_type": "markdown",
   "metadata": {},
   "source": [
    "# Quick Audit of Data\n",
    "\n",
    "The goal here was to get my bearings with the data. I set out to parse the data to understand the different tag types first."
   ]
  },
  {
   "cell_type": "code",
   "execution_count": 3,
   "metadata": {},
   "outputs": [
    {
     "name": "stdout",
     "output_type": "stream",
     "text": [
      "{'member': 57,\n",
      " 'nd': 8284,\n",
      " 'node': 6189,\n",
      " 'osm': 1,\n",
      " 'relation': 7,\n",
      " 'tag': 3713,\n",
      " 'way': 1058}\n"
     ]
    }
   ],
   "source": [
    "#using the mapparser.py file .... code from py file is below:\n",
    "import xml.etree.cElementTree as ET\n",
    "import pprint\n",
    "\n",
    "\n",
    "OSMFILE = \"kcsample.osm\"\n",
    "\n",
    "def count_tags(filename):\n",
    "    tags = {}\n",
    "    for event, elem in ET.iterparse(filename):\n",
    "        if elem.tag in tags: \n",
    "            tags[elem.tag] += 1\n",
    "        else:\n",
    "            tags[elem.tag] = 1\n",
    "    return tags\n",
    "    \n",
    "pprint.pprint(count_tags(OSMFILE))"
   ]
  },
  {
   "cell_type": "markdown",
   "metadata": {},
   "source": [
    "Now that I know the different tag types I'll be working with, I will try to see if there are any patterns within the tag types themselves and if there are any problems off the bat that I should be worried about (e.g. - Problem Characters)."
   ]
  },
  {
   "cell_type": "code",
   "execution_count": 4,
   "metadata": {},
   "outputs": [
    {
     "name": "stdout",
     "output_type": "stream",
     "text": [
      "{'lower': 2079, 'lower_colon': 1578, 'other': 56, 'problemchars': 0}\n"
     ]
    }
   ],
   "source": [
    "#using the tags.py file .... code from py file is below. Code was obtained from Udacity problem set:\n",
    "import xml.etree.cElementTree as ET\n",
    "import pprint\n",
    "import re\n",
    "\n",
    "lower = re.compile(r'^([a-z]|_)*$')\n",
    "lower_colon = re.compile(r'^([a-z]|_)*:([a-z]|_)*$')\n",
    "problemchars = re.compile(r'[=\\+/&<>;\\'\"\\?%#$@\\,\\. \\t\\r\\n]')\n",
    "\n",
    "def key_type(element, keys):\n",
    "    if element.tag == \"tag\":\n",
    "        for tag in element.iter(\"tag\"):\n",
    "            k = tag.attrib['k']\n",
    "            if lower.match(k):\n",
    "                keys['lower'] = keys['lower'] + 1\n",
    "            elif lower_colon.match(k):\n",
    "                keys['lower_colon'] = keys['lower_colon'] + 1\n",
    "            elif problemchars.match(k):\n",
    "                keys['problemchars'] = keys['problemchars'] + 1\n",
    "                print k\n",
    "            else:\n",
    "                keys['other'] = keys['other'] + 1\n",
    "        pass\n",
    "\n",
    "    return keys\n",
    "\n",
    "\n",
    "def process_map(filename):\n",
    "    keys = {\"lower\": 0, \"lower_colon\": 0, \"problemchars\": 0, \"other\": 0}\n",
    "    for _, element in ET.iterparse(filename):\n",
    "        keys = key_type(element, keys)\n",
    "    return keys\n",
    "\n",
    "\n",
    "\n",
    "def test():\n",
    "    # You can use another testfile 'map.osm' to look at your solution\n",
    "    # Note that the assertion below will be incorrect then.\n",
    "    # Note as well that the test function here is only used in the Test Run;\n",
    "    # when you submit, your code will be checked against a different dataset.\n",
    "    keys = process_map('kcsample.osm')\n",
    "    pprint.pprint(keys)\n",
    "\n",
    "\n",
    "if __name__ == \"__main__\":\n",
    "    test()"
   ]
  },
  {
   "cell_type": "markdown",
   "metadata": {},
   "source": [
    "# Problems with Dataset\n",
    "\n",
    "Below are the problems I identified with the problem set:\n",
    "\n",
    "- County information had a couple of \"dual names\" listed.\n",
    "- Multiple variants of the same street names present.\n",
    "- Only numeric values present for a few street names, so will need to confirm they're legitimate street numbers.\n",
    "- Some street information seems to be duplicated with the \"tiger:*attribute*\" value and will need to be checked out.\n"
   ]
  },
  {
   "cell_type": "markdown",
   "metadata": {},
   "source": [
    "I created a sample data OSM from the original 'kcmap.osm' file. The original file is 680MB in size."
   ]
  },
  {
   "cell_type": "markdown",
   "metadata": {},
   "source": [
    "Originally, I ran the Python code to list all unique users in the data. The list was fairly lengthy. So, I modified the original code with what is shown below to kick out the quantity of unique user ID's vs. just the list of all unique user ID's."
   ]
  },
  {
   "cell_type": "code",
   "execution_count": 5,
   "metadata": {},
   "outputs": [
    {
     "name": "stdout",
     "output_type": "stream",
     "text": [
      "77\n"
     ]
    }
   ],
   "source": [
    "import re\n",
    "\n",
    "def get_user(element):\n",
    "    return\n",
    "\n",
    "\n",
    "def process_map(filename):\n",
    "    users = set()\n",
    "    for _, element in ET.iterparse(filename):\n",
    "\n",
    "        for tag in element.iter():\n",
    "            if 'uid' in tag.attrib.keys():\n",
    "                users.add(tag.attrib['uid'])\n",
    "\n",
    "\n",
    "    return len(users)\n",
    "\n",
    "\n",
    "def test():\n",
    "\n",
    "    users = process_map('kcsample.osm')\n",
    "    pprint.pprint(users)\n",
    "\n",
    "\n",
    "\n",
    "\n",
    "if __name__ == \"__main__\":\n",
    "    test()"
   ]
  },
  {
   "cell_type": "markdown",
   "metadata": {},
   "source": [
    "I was curious if there was a \"top 100\" list of sorts (for lack of a better term) of folks who contribute to updating the Kansas City area's street map data. Below is code I worked on from class (and researched) to find and list those folks who contributed (50) or more times to the data. I decided to modify the code to pull usernames instead of ID's. If for nothing else, it helps me better understand the \"people\" behind the data manipulation and/or contribution."
   ]
  },
  {
   "cell_type": "code",
   "execution_count": 6,
   "metadata": {},
   "outputs": [
    {
     "name": "stdout",
     "output_type": "stream",
     "text": [
      "sannkc 5579\n",
      "bspecht 214\n",
      "railfan-eric 212\n",
      "schaaf 210\n",
      "PHerison 186\n",
      "Sabra Sharaya 185\n",
      "balcoath 88\n",
      "UAN51 71\n",
      "NE2 71\n",
      "woodpeck_fixbot 69\n",
      "None\n"
     ]
    }
   ],
   "source": [
    "import xml.etree.cElementTree as ET\n",
    "from collections import defaultdict\n",
    "import pprint\n",
    "from operator import itemgetter # source: https://stackoverflow.com/questions/11228812/print-a-dict-sorted-by-values\n",
    "\n",
    "\"\"\"\n",
    "Your task is to explore the data a bit more.\n",
    "The first task is a fun one - find out how many unique users\n",
    "have contributed to the map in this particular area!\n",
    "The function process_map should return a set of unique user IDs (\"uid\")\n",
    "\"\"\"\n",
    "\n",
    "osmfile = \"kcsample.osm\"\n",
    "\n",
    "def get_user(element):\n",
    "    if element.tag in [\"node\", \"way\", \"relation\"]:\n",
    "        return element.attrib[\"user\"]\n",
    "    else:\n",
    "        return None\n",
    "\n",
    "def get_all_users(filename):\n",
    "    users = defaultdict(int)\n",
    "    for _, element in ET.iterparse(filename):\n",
    "        uid = get_user(element)\n",
    "        if(uid):\n",
    "            users[uid] += 1\n",
    "    for k, v in sorted(users.items(), key=itemgetter(1), reverse=True):\n",
    "        if v >= 50: #there are a ton of users listed, so looking for those who make 50 or more changes in the data\n",
    "            print k, v\n",
    "#    return users\n",
    "\n",
    "\n",
    "print(get_all_users(osmfile))"
   ]
  },
  {
   "cell_type": "markdown",
   "metadata": {},
   "source": [
    "In my first OSM file download from OpenStreetMaps, I noticed that \"James Michael Dupont\" actually shows up twice. Apparently, he has a login for his mobile because he's also listed under \"james michael dupont mobile.\" I don't plan to pursue this as a clean-up effort for the project, but it is an interesting find. Additionally, it appears to me that there are bots that modify data here. For example, I see the name \"bot-mode\" has a count of (147). This is something that, while it doesn't show up in my reduced file size, would be something to investigate outside of this project (aka - if this were an actual business case scenario).\n",
    "\n",
    "From here, I wanted to check out the number of unique street names to see if any cleaning needs to be done."
   ]
  },
  {
   "cell_type": "code",
   "execution_count": 7,
   "metadata": {},
   "outputs": [
    {
     "name": "stdout",
     "output_type": "stream",
     "text": [
      "Avenue: 118\n",
      "Boulevard: 19\n",
      "Chavez: 2\n",
      "Court: 1\n",
      "Paseo: 5\n",
      "Place: 2\n",
      "Road: 5\n",
      "St: 1\n",
      "Street: 79\n",
      "Terrace: 2\n",
      "Way: 1\n"
     ]
    }
   ],
   "source": [
    "from collections import defaultdict\n",
    "\n",
    "osm_file = open(\"kcsample.osm\", \"r\")\n",
    "\n",
    "street_type_re = re.compile(r'\\S+\\.?$', re.IGNORECASE)\n",
    "street_types = defaultdict(int)\n",
    "\n",
    "def audit_street_type(street_types, street_name):\n",
    "    m = street_type_re.search(street_name)\n",
    "    if m:\n",
    "        street_type = m.group()\n",
    "\n",
    "        street_types[street_type] += 1\n",
    "\n",
    "def print_sorted_dict(d):\n",
    "    keys = d.keys()\n",
    "    keys = sorted(keys, key=lambda s: s.lower())\n",
    "    for k in keys:\n",
    "        v = d[k]\n",
    "        print \"%s: %d\" % (k, v)\n",
    "\n",
    "def is_street_name(elem):\n",
    "    return (elem.tag == \"tag\") and (elem.attrib['k'] == \"addr:street\")\n",
    "\n",
    "def audit():\n",
    "    for event, elem in ET.iterparse(osm_file):\n",
    "        if is_street_name(elem):\n",
    "            audit_street_type(street_types, elem.attrib['v'])\n",
    "    print_sorted_dict(street_types)\n",
    "\n",
    "if __name__ == '__main__':\n",
    "    audit()"
   ]
  },
  {
   "cell_type": "markdown",
   "metadata": {},
   "source": [
    "At first glance, I see that there are a few street names I'd like to clean up (e.g. - Street, Circle, and Boulevard). One thing I'm also curious about is the county names and whether or not that needs cleaning as well. I modified my original \"street name audit\" code to look for the county information (see below):"
   ]
  },
  {
   "cell_type": "code",
   "execution_count": 8,
   "metadata": {},
   "outputs": [
    {
     "name": "stdout",
     "output_type": "stream",
     "text": [
      "Jackson, MO: 41\n",
      "Jackson, MO:Wyandotte, KS: 1\n",
      "Wyandotte, KS: 11\n"
     ]
    }
   ],
   "source": [
    "osm_file = open(\"kcsample.osm\", \"r\")\n",
    "# changed the 'S' to a 'D' to pull in the entire string from the tiger:county attribute\n",
    "county_type_re = re.compile(r'\\D+\\.?$', re.IGNORECASE)\n",
    "county_types = defaultdict(int)\n",
    "\n",
    "def audit_county_type(county_types, county_name):\n",
    "    m = county_type_re.search(county_name)\n",
    "    if m:\n",
    "        county_type = m.group()\n",
    "\n",
    "        county_types[county_type] += 1\n",
    "\n",
    "def print_sorted_dict(d):\n",
    "    keys = d.keys()\n",
    "    keys = sorted(keys, key=lambda s: s.lower())\n",
    "    for k in keys:\n",
    "        v = d[k]\n",
    "        print \"%s: %d\" % (k, v)\n",
    "#Looking for tags that have the attribute of 'tiger:county' so I can see the counties listed in my data sample\n",
    "def is_county_name(elem):\n",
    "    return (elem.tag == \"tag\") and (elem.attrib['k'] == \"tiger:county\") #changed the focus to county instead of street name\n",
    "\n",
    "def audit():\n",
    "    for event, elem in ET.iterparse(osm_file):\n",
    "        if is_county_name(elem):\n",
    "            audit_county_type(county_types, elem.attrib['v'])\n",
    "    print_sorted_dict(county_types)\n",
    "\n",
    "if __name__ == '__main__':\n",
    "    audit()"
   ]
  },
  {
   "cell_type": "markdown",
   "metadata": {},
   "source": [
    "## From My Original 'kcmap' OSM File\n",
    "From personal experience, I know there's a 'Johnson county' in both Missouri and Kansas... so that's fine. I researched the 'Cass, MO:Jackson, MO' and 'Douglas, KS:Franklin,KS' ones to see if I can clarify where that data is pointed. As it turns out in both instances, the first county name is accurate. The reason I noticed (via looking at the map) is that the data point is very close to the adjacent county, which is also named as the second county. In both instances, I plan to remove the second county name. \n",
    "\n",
    "I looked into the data for the \"Benton, MO: .... \" call-out above as well. Upon further research, I noticed that it has a \"fixme\" tag tied to it. When I looked that up, it confirms my suspicion that it's flagged for clarification and review. That data isn't reliable to me.\n",
    "\n",
    "## From My New 'kcmap' OSM File\n",
    "\n",
    "I still see that double counties exist in the records (e.g. - Jackson, MO:Wyandotte, KS. This simply confirms my original thinking above.\n",
    "\n",
    "My approach now is to (a) clean up the street names (taking care of any numbered streets by adding \"street\" for clarity) and (b) clean up the counties."
   ]
  },
  {
   "cell_type": "markdown",
   "metadata": {},
   "source": [
    "After running the StreetNameClean.py file, I re-ran the StreetNameAudit.py file (using the kcsamplecleaned.osm file) to see if it worked."
   ]
  },
  {
   "cell_type": "code",
   "execution_count": 9,
   "metadata": {},
   "outputs": [
    {
     "name": "stdout",
     "output_type": "stream",
     "text": [
      "Avenue: 118\n",
      "Boulevard: 19\n",
      "Chavez: 2\n",
      "Court: 1\n",
      "Paseo: 5\n",
      "Place: 2\n",
      "Road: 5\n",
      "Street: 80\n",
      "Terrace: 2\n",
      "Way: 1\n"
     ]
    }
   ],
   "source": [
    "import xml.etree.cElementTree as ET\n",
    "from collections import defaultdict\n",
    "import re\n",
    "\n",
    "osmFile = open(\"kcsampleclean1.osm\", \"r\")\n",
    "\n",
    "street_type_re = re.compile(r'\\S+\\.?$', re.IGNORECASE)\n",
    "streetTypes = defaultdict(int)\n",
    "\n",
    "#Finding and counting the street names or \"types\"\n",
    "def audit_street_type(streetTypes, streetName):\n",
    "    m = street_type_re.search(streetName)\n",
    "    if m:\n",
    "        street_type = m.group()\n",
    "\n",
    "        streetTypes[street_type] += 1\n",
    "\n",
    "#using this to print the sorted dictionary\n",
    "def printSortedDict(d):\n",
    "    keys = d.keys()\n",
    "    keys = sorted(keys, key=lambda s: s.lower())\n",
    "    for k in keys:\n",
    "        v = d[k]\n",
    "        print \"%s: %d\" % (k, v)\n",
    "\n",
    "#Using this to verify if the element is actually the street name attribute\n",
    "def isStreetName(elem):\n",
    "    return (elem.tag == \"tag\") and (elem.attrib['k'] == \"addr:street\")\n",
    "\n",
    "#doing the actual auditing here\n",
    "def audit():\n",
    "    for event, elem in ET.iterparse(osmFile):\n",
    "        if isStreetName(elem):\n",
    "            audit_street_type(streetTypes, elem.attrib['v'])\n",
    "    printSortedDict(streetTypes)\n",
    "\n",
    "if __name__ == '__main__':\n",
    "    audit()"
   ]
  },
  {
   "cell_type": "markdown",
   "metadata": {},
   "source": [
    "Looks much better! Now it's time to figure out how to clean up the county names. Using the cleanCounty.py file, I re-ran the countyAudit.py file to see how it played out."
   ]
  },
  {
   "cell_type": "code",
   "execution_count": 10,
   "metadata": {},
   "outputs": [
    {
     "name": "stdout",
     "output_type": "stream",
     "text": [
      "Jackson, M: 41\n",
      "Jackson, MO: 1\n",
      "Wyandotte, K: 11\n"
     ]
    }
   ],
   "source": [
    "import xml.etree.cElementTree as ET\n",
    "from collections import defaultdict\n",
    "import re\n",
    "\n",
    "osmFile = open(\"kcsampleclean2.osm\", \"r\")\n",
    "# changed the 'S' to a 'D' to pull in the entire string from the tiger:county attribute\n",
    "county_type_re = re.compile(r'\\D+\\.?$', re.IGNORECASE)\n",
    "countyTypes = defaultdict(int)\n",
    "\n",
    "def auditCountyType(countyTypes, countyName):\n",
    "    m = county_type_re.search(countyName)\n",
    "    if m:\n",
    "        countyType = m.group()\n",
    "\n",
    "        countyTypes[countyType] += 1\n",
    "\n",
    "def printSortedDict(d):\n",
    "    keys = d.keys()\n",
    "    keys = sorted(keys, key=lambda s: s.lower())\n",
    "    for k in keys:\n",
    "        v = d[k]\n",
    "        print \"%s: %d\" % (k, v)\n",
    "#Looking for tags that have the attribute of 'tiger:county' so I can see the counties listed in my data sample\n",
    "def is_county_name(elem):\n",
    "    return (elem.tag == \"tag\") and (elem.attrib['k'] == \"tiger:county\") #changed the focus to county instead of street name\n",
    "\n",
    "def audit():\n",
    "    for event, elem in ET.iterparse(osmFile):\n",
    "        if is_county_name(elem):\n",
    "            auditCountyType(countyTypes, elem.attrib['v'])\n",
    "    printSortedDict(countyTypes)\n",
    "\n",
    "if __name__ == '__main__':\n",
    "    audit()"
   ]
  },
  {
   "cell_type": "markdown",
   "metadata": {},
   "source": [
    "Better.... but I noticed some \"fall-out\" from my cleaning efforts. It looks like some county names lost their last \"O\" or \"S\" respectively, which is causing the county totals to not be counted as a single name if you will. I attempted multiple variations of my python file, but ended up losing more of the county information than I was comfortable with. I elected to focus on the \"better names\" approach and run my cleanCounty2.py file to clean up those counties missing the \"O\" or \"S\" as shown above."
   ]
  },
  {
   "cell_type": "code",
   "execution_count": 11,
   "metadata": {},
   "outputs": [
    {
     "name": "stdout",
     "output_type": "stream",
     "text": [
      "Jackson, MO: 42\n",
      "Wyandotte, KS: 11\n"
     ]
    }
   ],
   "source": [
    "import xml.etree.cElementTree as ET\n",
    "from collections import defaultdict\n",
    "import re\n",
    "\n",
    "osmFile = open(\"kcsampleclean3.osm\", \"r\")\n",
    "# changed the 'S' to a 'D' to pull in the entire string from the tiger:county attribute\n",
    "county_type_re = re.compile(r'\\D+\\.?$', re.IGNORECASE)\n",
    "countyTypes = defaultdict(int)\n",
    "\n",
    "def auditCountyType(countyTypes, countyName):\n",
    "    m = county_type_re.search(countyName)\n",
    "    if m:\n",
    "        countyType = m.group()\n",
    "\n",
    "        countyTypes[countyType] += 1\n",
    "\n",
    "def printSortedDict(d):\n",
    "    keys = d.keys()\n",
    "    keys = sorted(keys, key=lambda s: s.lower())\n",
    "    for k in keys:\n",
    "        v = d[k]\n",
    "        print \"%s: %d\" % (k, v)\n",
    "#Looking for tags that have the attribute of 'tiger:county' so I can see the counties listed in my data sample\n",
    "def is_county_name(elem):\n",
    "    return (elem.tag == \"tag\") and (elem.attrib['k'] == \"tiger:county\") #changed the focus to county instead of street name\n",
    "\n",
    "def audit():\n",
    "    for event, elem in ET.iterparse(osmFile):\n",
    "        if is_county_name(elem):\n",
    "            auditCountyType(countyTypes, elem.attrib['v'])\n",
    "    printSortedDict(countyTypes)\n",
    "\n",
    "if __name__ == '__main__':\n",
    "    audit()"
   ]
  },
  {
   "cell_type": "markdown",
   "metadata": {},
   "source": [
    "Now we're talking!!! I ended up creating a couple of python files to address this (cleanCounty.py & cleanCounty2.py). The cleanCounty.py file stripped down the attributes that had multiple counties in them. The cleanCounty2.py file focused on correcting the stripped names to show the 2-character state abbreviations.\n",
    "\n",
    "I love seeing how much time and effort spent figuring out how to lay out the code structure and then to be able to modify it to also take care of county information.... this is why I love data science!\n",
    "\n",
    "# Problem Check-Up\n",
    "\n",
    "At this point, I have addressed the following items that I discovered for data wrangling / cleaning:\n",
    "\n",
    "- County information had a couple of \"dual names\" listed.\n",
    "- Multiple variants of the same street names present.\n",
    "\n",
    "# Additional Clean-Up Opportunity\n",
    "\n",
    "As previously stated in this document, one area of cleaning that could be looked into is the user names. As previously noted, there were multiple versions of the same person (at least one I discovered) that could be merged to clean that area up a little. One thing to note is by doing so, I am not sure whether or not there'd be impact to the data one \"user\" would have over the other if that makes sense and would need to ensure there's no data loss by merging the two names together. The benefit in pursuing this, however, would be one more step taken to reduce confusion as to who all / how many folks are participating in this area's up-keep of data. \n",
    "\n",
    "Finally, I did notice that the cities need some cleaning as well to remove unnecessary capitalizations (as an example). Again, something that should be investigated and could be handled outside of this project."
   ]
  },
  {
   "cell_type": "markdown",
   "metadata": {},
   "source": [
    "# Onward to SQL\n",
    "\n",
    "I ran my cleanData.py file to take the original \"kcmap.osm\" file and:\n",
    "\n",
    "- run it through the cleaning Python files like I show earlier in this document\n",
    "- convert it from XML / OSM file into (5) CSV files in preparation to upload into a database file (and applicable tables) for SQLITE.\n",
    "\n",
    "Now that my code has completed regarding the OSM cleaning and conversion to (5) CSV files, I will create the database and subsequent tables for these CSV's to live in (ref: importToDB.py). Below are the respective queries I wrote to view the data within the \"kcmap.db\" to verify things are functioning as they should."
   ]
  },
  {
   "cell_type": "markdown",
   "metadata": {},
   "source": [
    "### Screenshots Confirming SQL Database and Tables Were Created"
   ]
  },
  {
   "attachments": {
    "image.png": {
     "image/png": "[encoded data removed]"
    }
   },
   "cell_type": "markdown",
   "metadata": {},
   "source": [
    "![image.png](attachment:image.png)"
   ]
  },
  {
   "cell_type": "markdown",
   "metadata": {},
   "source": [
    "# SQL Queries Using Python"
   ]
  },
  {
   "cell_type": "code",
   "execution_count": 12,
   "metadata": {},
   "outputs": [
    {
     "name": "stdout",
     "output_type": "stream",
     "text": [
      "#######File Sizes:#######\n",
      "kcmap.osm file is 69M.\n",
      "kcmap.db file is 49M.\n",
      "nodes.csv file is 24M.\n",
      "nodes_tags.csv file is 802K.\n",
      "ways.csv file is 2M.\n",
      "ways_tags.csv file is 5M.\n",
      "ways_nodes.csv file is 9M.\n"
     ]
    }
   ],
   "source": [
    "import sqlite3\n",
    "import QueryTest\n",
    "import os\n",
    "from hurry.filesize import size\n",
    "\n",
    "con = sqlite3.connect(\"kcmap.db\")\n",
    "cur = con.cursor()\n",
    "\n",
    "print \"#######File Sizes:#######\"\n",
    "QueryTest.fileSizes()"
   ]
  },
  {
   "cell_type": "code",
   "execution_count": 13,
   "metadata": {},
   "outputs": [
    {
     "name": "stdout",
     "output_type": "stream",
     "text": [
      "####Number of Nodes####\n"
     ]
    },
    {
     "data": {
      "text/plain": [
       "309430"
      ]
     },
     "execution_count": 13,
     "metadata": {},
     "output_type": "execute_result"
    }
   ],
   "source": [
    "print \"####Number of Nodes####\"\n",
    "QueryTest.numberOfNodes()"
   ]
  },
  {
   "cell_type": "code",
   "execution_count": 14,
   "metadata": {},
   "outputs": [
    {
     "name": "stdout",
     "output_type": "stream",
     "text": [
      "####Number of Ways####\n"
     ]
    },
    {
     "data": {
      "text/plain": [
       "52903"
      ]
     },
     "execution_count": 14,
     "metadata": {},
     "output_type": "execute_result"
    }
   ],
   "source": [
    "print \"####Number of Ways####\"\n",
    "QueryTest.numberOfWays()"
   ]
  },
  {
   "cell_type": "code",
   "execution_count": 15,
   "metadata": {},
   "outputs": [
    {
     "name": "stdout",
     "output_type": "stream",
     "text": [
      "####Verify Data is in a Table####\n",
      "######With 10 Rows of Data#######\n",
      "\n"
     ]
    },
    {
     "data": {
      "text/plain": [
       "[(u'65613479',\n",
       "  u'39.1148918',\n",
       "  u'-94.6080688',\n",
       "  u'PHerison',\n",
       "  u'28378',\n",
       "  u'59',\n",
       "  u'5188623',\n",
       "  u'2010-07-11T10:02:59Z'),\n",
       " (u'65613480',\n",
       "  u'39.1131167',\n",
       "  u'-94.6060539',\n",
       "  u'PHerison',\n",
       "  u'28378',\n",
       "  u'58',\n",
       "  u'4781048',\n",
       "  u'2010-05-23T08:57:26Z'),\n",
       " (u'65613482',\n",
       "  u'39.1113519',\n",
       "  u'-94.6035649',\n",
       "  u'PHerison',\n",
       "  u'28378',\n",
       "  u'58',\n",
       "  u'4781048',\n",
       "  u'2010-05-23T08:57:26Z'),\n",
       " (u'65613483',\n",
       "  u'39.1101198',\n",
       "  u'-94.6003891',\n",
       "  u'PHerison',\n",
       "  u'28378',\n",
       "  u'58',\n",
       "  u'4781048',\n",
       "  u'2010-05-23T08:57:26Z'),\n",
       " (u'65613485',\n",
       "  u'39.1104528',\n",
       "  u'-94.5944668',\n",
       "  u'PHerison',\n",
       "  u'28378',\n",
       "  u'58',\n",
       "  u'4781048',\n",
       "  u'2010-05-23T08:57:26Z'),\n",
       " (u'65613498',\n",
       "  u'39.1461423',\n",
       "  u'-94.5339387',\n",
       "  u'PHerison',\n",
       "  u'28378',\n",
       "  u'58',\n",
       "  u'4781048',\n",
       "  u'2010-05-23T08:57:28Z'),\n",
       " (u'65613524',\n",
       "  u'39.1658940',\n",
       "  u'-94.4005291',\n",
       "  u'PHerison',\n",
       "  u'28378',\n",
       "  u'58',\n",
       "  u'5143676',\n",
       "  u'2010-07-05T17:20:45Z'),\n",
       " (u'65613525',\n",
       "  u'39.1682896',\n",
       "  u'-94.3943279',\n",
       "  u'PHerison',\n",
       "  u'28378',\n",
       "  u'58',\n",
       "  u'5143676',\n",
       "  u'2010-07-05T17:20:45Z'),\n",
       " (u'65613528',\n",
       "  u'39.1686627',\n",
       "  u'-94.3762802',\n",
       "  u'PHerison',\n",
       "  u'28378',\n",
       "  u'58',\n",
       "  u'5182103',\n",
       "  u'2010-07-10T12:24:19Z'),\n",
       " (u'65613529',\n",
       "  u'39.1674399',\n",
       "  u'-94.3694030',\n",
       "  u'PHerison',\n",
       "  u'28378',\n",
       "  u'58',\n",
       "  u'5182103',\n",
       "  u'2010-07-10T12:24:19Z')]"
      ]
     },
     "execution_count": 15,
     "metadata": {},
     "output_type": "execute_result"
    }
   ],
   "source": [
    "print \"####Verify Data is in a Table####\"\n",
    "print \"######With 10 Rows of Data#######\"\n",
    "print\n",
    "QueryTest.grabaRow()"
   ]
  },
  {
   "cell_type": "code",
   "execution_count": 16,
   "metadata": {},
   "outputs": [
    {
     "name": "stdout",
     "output_type": "stream",
     "text": [
      "####Number of Counties####\n",
      "####In Descending Order####\n"
     ]
    },
    {
     "data": {
      "text/plain": [
       "[(u'Jackson, MO', 1883),\n",
       " (u'Wyandotte, KS', 631),\n",
       " (u'Clay, MO', 29),\n",
       " (u'Platte, MO', 1)]"
      ]
     },
     "execution_count": 16,
     "metadata": {},
     "output_type": "execute_result"
    }
   ],
   "source": [
    "print '####Number of Counties####'\n",
    "print '####In Descending Order####'\n",
    "QueryTest.countCounties()"
   ]
  },
  {
   "cell_type": "code",
   "execution_count": 17,
   "metadata": {},
   "outputs": [
    {
     "name": "stdout",
     "output_type": "stream",
     "text": [
      "####Top 10 Street Names in Descending Order####\n"
     ]
    },
    {
     "data": {
      "text/plain": [
       "[(u'Main Street', 17),\n",
       " (u'Grand Boulevard', 13),\n",
       " (u'East 18th Street', 10),\n",
       " (u'Southwest Boulevard', 10),\n",
       " (u'Prospect Avenue', 9),\n",
       " (u'Walnut Street', 9),\n",
       " (u'East 14th Street', 8),\n",
       " (u'Delaware Street', 7),\n",
       " (u'Baltimore Avenue', 4),\n",
       " (u'East Missouri Avenue', 4),\n",
       " (u'East 13th Street', 3)]"
      ]
     },
     "execution_count": 17,
     "metadata": {},
     "output_type": "execute_result"
    }
   ],
   "source": [
    "print \"####Top 10 Street Names in Descending Order####\"\n",
    "QueryTest.topStreet()"
   ]
  },
  {
   "cell_type": "code",
   "execution_count": 18,
   "metadata": {},
   "outputs": [
    {
     "name": "stdout",
     "output_type": "stream",
     "text": [
      "####Top 10 Contributors to KC Map####\n",
      "#########In Descending Order#########\n"
     ]
    },
    {
     "data": {
      "text/plain": [
       "[(u'sannkc', 278249),\n",
       " (u'railfan-eric', 10886),\n",
       " (u'bspecht', 10603),\n",
       " (u'schaaf', 10338),\n",
       " (u'PHerison', 9622),\n",
       " (u'Sabra Sharaya', 9242),\n",
       " (u'balcoath', 4642),\n",
       " (u'UAN51', 3560),\n",
       " (u'woodpeck_fixbot', 3267),\n",
       " (u'NE2', 3142)]"
      ]
     },
     "execution_count": 18,
     "metadata": {},
     "output_type": "execute_result"
    }
   ],
   "source": [
    "print \"####Top 10 Contributors to KC Map####\"\n",
    "print \"#########In Descending Order#########\"\n",
    "QueryTest.topUsers()"
   ]
  },
  {
   "cell_type": "code",
   "execution_count": 19,
   "metadata": {},
   "outputs": [
    {
     "name": "stdout",
     "output_type": "stream",
     "text": [
      "####Top 10 Traffic Features on Highways####\n"
     ]
    },
    {
     "data": {
      "text/plain": [
       "[(u'crossing', 2738),\n",
       " (u'street_lamp', 782),\n",
       " (u'bus_stop', 704),\n",
       " (u'traffic_signals', 380),\n",
       " (u'motorway_junction', 129),\n",
       " (u'turning_circle', 43),\n",
       " (u'stop', 35),\n",
       " (u'give_way', 8),\n",
       " (u'turning_loop', 4),\n",
       " (u'steps', 2)]"
      ]
     },
     "execution_count": 19,
     "metadata": {},
     "output_type": "execute_result"
    }
   ],
   "source": [
    "print \"####Top 10 Traffic Features on Highways####\"\n",
    "QueryTest.trafficTech()"
   ]
  },
  {
   "cell_type": "code",
   "execution_count": 20,
   "metadata": {},
   "outputs": [
    {
     "name": "stdout",
     "output_type": "stream",
     "text": [
      "####Top 10 Cities#####\n"
     ]
    },
    {
     "data": {
      "text/plain": [
       "[(u'Kansas City', 11463),\n",
       " (u'Kansas City, MO', 86),\n",
       " (u'Kansas CIty, KS 66101', 1),\n",
       " (u'kansas city', 1)]"
      ]
     },
     "execution_count": 20,
     "metadata": {},
     "output_type": "execute_result"
    }
   ],
   "source": [
    "print \"####Top 10 Cities#####\"\n",
    "QueryTest.countCities()"
   ]
  },
  {
   "cell_type": "markdown",
   "metadata": {},
   "source": [
    "# Final Thoughts\n",
    "\n",
    "Overall, this project was definitely the most challenging of my degree program yet. It was also the most interesting and \"real world\" scenario. This kept things interesting as I went through a lot of unknown territories putting this all together. I spent significant time researching and trying to understand how to accomplish the goals set forth in this project and ensure that I was able to code and talk through it in my own way. Aside from the \"XML to CSV\" aspect of this project, I feel I have been successful. I have also realized that there is so much more to SQL queries than I originally thought. \n",
    "\n",
    "This has definitely solidified my motivation to learn more about Data Science. I look forward to the next challenge... and a break from staring so much at \"iterparse\" and \"ET\" through the midnight hours.\n",
    "\n",
    "# Sources Used Throughout This Project\n",
    "\n",
    "- https://discussions.udacity.com/t/auditing-street-names-unicode-problem/351420/9\n",
    "- https://docs.python.org/2/library/xml.etree.elementtree.html\n",
    "- https://www.python-course.eu/lambda.php\n",
    "- https://stackoverflow.com/questions/13669252/what-is-key-lambda\n",
    "- http://stackoverflow.com/questions/3095434/inserting-newlines-in-xml-file-generated-via-xml-etree-elementtree-in-python\n",
    "- https://anh.cs.luc.edu/python/hands-on/3.1/handsonHtml/files.html\n",
    "- https://classroom.udacity.com/nanodegrees/nd002/parts/0021345404/modules/316820862075461/lessons/5436095827/concepts/54456296460923\n",
    "- https://classroom.udacity.com/nanodegrees/nd002/parts/0021345404/modules/316820862075461/lessons/5436095827/concepts/54411202700923\n",
    "- http://stackoverflow.com/questions/3095434/inserting-newlines-in-xml-file-generated-via-xml-etree-elementtree-in-python\n",
    "- https://www.debuggex.com/cheatsheet/regex/python \n",
    "- https://www.youtube.com/watch?v=sa-TUpSx1JA\n",
    "- https://docs.python.org/3.2/library/re.html\n",
    "- https://discussions.udacity.com/t/lesson-3-8-example-using-our-blueprint/158483/2\n",
    "- https://discussions.udacity.com/t/validating-a-complex-query-how-to-find-ids-with-a-missing-key/180994\n",
    "- https://discussions.udacity.com/t/wrangle-openstreet-data-sql-queries/310013/3\n",
    "- https://discussions.udacity.com/t/sqlite-number-of-user-contributions-query/198564\n",
    "- https://www.systutorials.com/241542/how-to-get-file-size-in-python/\n",
    "- http://thepythonguru.com/fetching-results/\n",
    "- https://docs.python.org/2/library/sqlite3.html\n",
    "- https://stackoverflow.com/questions/9545637/sql-order-by-count\n",
    "- https://discussions.udacity.com/t/wrangle-openstreet-data-sql-queries/310013/2\n",
    "- https://gist.github.com/carlward/54ec1c91b62a5f911c42#file-sample_project-md\n",
    "- https://discussions.udacity.com/t/validating-a-complex-query-how-to-find-ids-with-a-missing-key/180994\n",
    "- https://stackoverflow.com/questions/2887878/importing-a-csv-file-into-a-sqlite3-database-table-using-python\n",
    "- https://discussions.udacity.com/t/creating-db-file-from-csv-files-with-non-ascii-unicode-characters/174958\n",
    "- https://discussions.udacity.com/t/difficulty-with-inserting-csv-file-and-sql-query/186125/3\n",
    "- https://discussions.udacity.com/t/datatype-mismatch-issue-with-sql-import/199907\n",
    "- https://discussions.udacity.com/t/osm-project-importing-csv-to-tables/177405\n",
    "- https://discussions.udacity.com/t/final-project-data-wrangling-p3/195936/32\n",
    "- https://docs.python.org/2.5/lib/sqlite3-Cursor-Objects.html\n",
    "- https://stackoverflow.com/questions/11228812/print-a-dict-sorted-by-values\n",
    "- https://anh.cs.luc.edu/python/hands-on/3.1/handsonHtml/files.html\n"
   ]
  },
  {
   "cell_type": "code",
   "execution_count": null,
   "metadata": {},
   "outputs": [],
   "source": []
  }
 ],
 "metadata": {
  "kernelspec": {
   "display_name": "Python 2",
   "language": "python",
   "name": "python2"
  },
  "language_info": {
   "codemirror_mode": {
    "name": "ipython",
    "version": 2
   },
   "file_extension": ".py",
   "mimetype": "text/x-python",
   "name": "python",
   "nbconvert_exporter": "python",
   "pygments_lexer": "ipython2",
   "version": "2.7.14"
  }
 },
 "nbformat": 4,
 "nbformat_minor": 2
}
